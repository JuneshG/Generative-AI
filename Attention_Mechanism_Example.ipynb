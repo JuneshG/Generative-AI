{
  "nbformat": 4,
  "nbformat_minor": 0,
  "metadata": {
    "colab": {
      "provenance": [],
      "authorship_tag": "ABX9TyMCD+Fuvjoec/kSnLOEXiIn",
      "include_colab_link": true
    },
    "kernelspec": {
      "name": "python3",
      "display_name": "Python 3"
    },
    "language_info": {
      "name": "python"
    }
  },
  "cells": [
    {
      "cell_type": "markdown",
      "metadata": {
        "id": "view-in-github",
        "colab_type": "text"
      },
      "source": [
        "<a href=\"https://colab.research.google.com/github/JuneshG/Generative-AI/blob/main/Attention_Mechanism_Example.ipynb\" target=\"_parent\"><img src=\"https://colab.research.google.com/assets/colab-badge.svg\" alt=\"Open In Colab\"/></a>"
      ]
    },
    {
      "cell_type": "code",
      "execution_count": null,
      "metadata": {
        "colab": {
          "base_uri": "https://localhost:8080/"
        },
        "id": "MMsS5i1UmjyK",
        "outputId": "c1ee87b7-72d9-43c5-8498-5ad8a57b99dc"
      },
      "outputs": [
        {
          "output_type": "stream",
          "name": "stdout",
          "text": [
            "[[0.98522025 1.74174051 0.75652026]\n",
            " [0.90965265 1.40965265 0.5       ]\n",
            " [0.99851226 1.75849334 0.75998108]\n",
            " [0.99560386 1.90407309 0.90846923]]\n"
          ]
        }
      ],
      "source": [
        "from numpy import array\n",
        "from numpy import random\n",
        "from numpy import dot\n",
        "from scipy.special import softmax\n",
        "\n",
        "# encoder representations of four different friends\n",
        "friend_1 = array([1, 0, 0])  # Speed enthusiast\n",
        "friend_2 = array([0, 1, 0])  # Comfort lover\n",
        "friend_3 = array([1, 1, 0])  # Balanced speed and comfort\n",
        "friend_4 = array([0, 0, 1])  # Tech-savvy\n",
        "\n",
        "# stacking the friend preferences into a single array\n",
        "friends = array([friend_1, friend_2, friend_3, friend_4])\n",
        "\n",
        "# generating the weight matrices\n",
        "random.seed(42)\n",
        "W_Q = random.randint(3, size=(3, 3))  # Urgency matrix\n",
        "W_K = random.randint(3, size=(3, 3))  # Cost matrix\n",
        "W_V = random.randint(3, size=(3, 3))  # Feature matrix\n",
        "\n",
        "# generating the queries, keys and values\n",
        "Q = friends @ W_Q  # How urgently each friend wants features\n",
        "K = friends @ W_K  # Cost considerations for each preference\n",
        "V = friends @ W_V  # Features of each motorcycle\n",
        "\n",
        "# scoring the query vectors against all key vectors\n",
        "scores = Q @ K.transpose()  # Matching urgency with cost\n",
        "\n",
        "# computing the weights by a softmax operation\n",
        "weights = softmax(scores / K.shape[1] ** 0.5, axis=1)  # Balancing urgency and cost\n",
        "\n",
        "# computing the attention by a weighted sum of the value vectors\n",
        "attention = weights @ V  # Optimal feature set for each friend\n",
        "\n",
        "print(attention)"
      ]
    },
    {
      "cell_type": "markdown",
      "source": [
        "#Motorcycle Buying Scenario\n",
        "##Friends and Preferences:\n",
        "Friend 1 (Speed Enthusiast): Loves fast motorcycles.\\\n",
        "Friend 2 (Comfort Lover): Prioritizes comfort and smooth rides.\\\n",
        "Friend 3 (Balanced): Wants a mix of speed and comfort.\\\n",
        "Friend 4 (Tech-Savvy): Interested in advanced technology features.\n",
        "\n",
        "\n",
        "##Weight Matrices:\n",
        "W_Q (Urgency Matrix): How urgently each friend wants specific features.\n",
        "W_K (Cost Matrix): Cost considerations for each type of motorcycle.\n",
        "W_V (Feature Matrix): The features available in different motorcycles.\n",
        "\n",
        "##Generating Queries, Keys, and Values:\n",
        "Q (Queries): Represents how urgently each friend desires certain features.\\\n",
        "K (Keys): Represents cost considerations for those features.\\\n",
        "V (Values): Represents the feature set available in different motorcycles.\n",
        "\n",
        "##Scoring and Weighting:\n",
        "The code calculates how well each friend's urgency matches with cost constraints.\\\n",
        "Softmax ensures a balanced consideration of urgency and cost.\n",
        "\n",
        "##Computing Attention:\n",
        "\n",
        "The final attention output represents the optimal feature set for each friend's preferred motorcycle.\\\n",
        "Each row in 'attention' shows how well each motorcycle aligns with their\n",
        "preferences.\n",
        "\n",
        "##Interpreting the Output\n",
        "The output will be a matrix where each row corresponds to one friend's optimal motorcycle choice based on their preferences:\n",
        "\n",
        "Friend 1: Likely to choose a motorcycle with high speed features.\\\n",
        "Friend 2: Will prioritize comfort-related features.\\\n",
        "Friend 3: Will look for a balance between speed and comfort.\\\n",
        "Friend 4: Will focus on motorcycles with advanced tech features.\n",
        "\n",
        "This output helps each friend understand which motorcycle best suits their needs while considering both their urgency for certain features and the associated costs. 🏍️"
      ],
      "metadata": {
        "id": "zOv3AstZpkBy"
      }
    },
    {
      "cell_type": "code",
      "source": [],
      "metadata": {
        "id": "3NypBZo8mkqP"
      },
      "execution_count": null,
      "outputs": []
    }
  ]
}