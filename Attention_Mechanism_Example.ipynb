{
  "nbformat": 4,
  "nbformat_minor": 0,
  "metadata": {
    "colab": {
      "provenance": [],
      "authorship_tag": "ABX9TyNAwOgWTCGIG4IKt6e/n2R/",
      "include_colab_link": true
    },
    "kernelspec": {
      "name": "python3",
      "display_name": "Python 3"
    },
    "language_info": {
      "name": "python"
    }
  },
  "cells": [
    {
      "cell_type": "markdown",
      "metadata": {
        "id": "view-in-github",
        "colab_type": "text"
      },
      "source": [
        "<a href=\"https://colab.research.google.com/github/JuneshG/Generative-AI/blob/main/Attention_Mechanism_Example.ipynb\" target=\"_parent\"><img src=\"https://colab.research.google.com/assets/colab-badge.svg\" alt=\"Open In Colab\"/></a>"
      ]
    },
    {
      "cell_type": "code",
      "execution_count": null,
      "metadata": {
        "colab": {
          "base_uri": "https://localhost:8080/"
        },
        "id": "MMsS5i1UmjyK",
        "outputId": "c1ee87b7-72d9-43c5-8498-5ad8a57b99dc"
      },
      "outputs": [
        {
          "output_type": "stream",
          "name": "stdout",
          "text": [
            "[[0.98522025 1.74174051 0.75652026]\n",
            " [0.90965265 1.40965265 0.5       ]\n",
            " [0.99851226 1.75849334 0.75998108]\n",
            " [0.99560386 1.90407309 0.90846923]]\n"
          ]
        }
      ],
      "source": [
        "from numpy import array\n",
        "from numpy import random\n",
        "from numpy import dot\n",
        "from scipy.special import softmax\n",
        "\n",
        "# encoder representations of four different friends\n",
        "friend_1 = array([1, 0, 0])  # Speed enthusiast\n",
        "friend_2 = array([0, 1, 0])  # Comfort lover\n",
        "friend_3 = array([1, 1, 0])  # Balanced speed and comfort\n",
        "friend_4 = array([0, 0, 1])  # Tech-savvy\n",
        "\n",
        "# stacking the friend preferences into a single array\n",
        "friends = array([friend_1, friend_2, friend_3, friend_4])\n",
        "\n",
        "# generating the weight matrices\n",
        "random.seed(42)\n",
        "W_Q = random.randint(3, size=(3, 3))  # Urgency matrix\n",
        "W_K = random.randint(3, size=(3, 3))  # Cost matrix\n",
        "W_V = random.randint(3, size=(3, 3))  # Feature matrix\n",
        "\n",
        "# generating the queries, keys and values\n",
        "Q = friends @ W_Q  # How urgently each friend wants features\n",
        "K = friends @ W_K  # Cost considerations for each preference\n",
        "V = friends @ W_V  # Features of each motorcycle\n",
        "\n",
        "# scoring the query vectors against all key vectors\n",
        "scores = Q @ K.transpose()  # Matching urgency with cost\n",
        "\n",
        "# computing the weights by a softmax operation\n",
        "weights = softmax(scores / K.shape[1] ** 0.5, axis=1)  # Balancing urgency and cost\n",
        "\n",
        "# computing the attention by a weighted sum of the value vectors\n",
        "attention = weights @ V  # Optimal feature set for each friend\n",
        "\n",
        "print(attention)"
      ]
    },
    {
      "cell_type": "code",
      "source": [],
      "metadata": {
        "id": "3NypBZo8mkqP"
      },
      "execution_count": null,
      "outputs": []
    }
  ]
}